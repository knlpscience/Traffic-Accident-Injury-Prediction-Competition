{
  "nbformat": 4,
  "nbformat_minor": 0,
  "metadata": {
    "colab": {
      "provenance": [],
      "mount_file_id": "1ktOdewWuz5vXRhS4bnUX92ya43zMufQ6",
      "authorship_tag": "ABX9TyNbmvIVrAn1EVypFHclSA0f",
      "include_colab_link": true
    },
    "kernelspec": {
      "name": "python3",
      "display_name": "Python 3"
    },
    "language_info": {
      "name": "python"
    }
  },
  "cells": [
    {
      "cell_type": "markdown",
      "metadata": {
        "id": "view-in-github",
        "colab_type": "text"
      },
      "source": [
        "<a href=\"https://colab.research.google.com/github/knlpscience/Traffic-Accident-Injury-Prediction-Competition/blob/main/%EB%8C%80%EA%B5%AC_%EA%B5%90%ED%86%B5%EC%82%AC%EA%B3%A0_%ED%94%BC%ED%95%B4_%EC%98%88%EC%B8%A1_AI_%EA%B2%BD%EC%A7%84%EB%8C%80%ED%9A%8C(model).ipynb\" target=\"_parent\"><img src=\"https://colab.research.google.com/assets/colab-badge.svg\" alt=\"Open In Colab\"/></a>"
      ]
    },
    {
      "cell_type": "code",
      "source": [
        "!sudo apt-get install -y fonts-nanum\n",
        "!sudo fc-cache -fv\n",
        "!rm ~/.cache/matplotlib -rf"
      ],
      "metadata": {
        "id": "3cz9rv22edVd"
      },
      "execution_count": null,
      "outputs": []
    },
    {
      "cell_type": "code",
      "source": [
        "import seaborn as sns\n",
        "import matplotlib.pyplot as plt\n",
        "plt.rc('font', family='NanumBarunGothic')\n",
        "\n",
        "import pandas as pd\n",
        "import numpy as np\n",
        "import bisect\n",
        "from tqdm import tqdm\n",
        "\n",
        "import lightgbm as lgb\n",
        "from sklearn.preprocessing import  LabelEncoder\n",
        "from sklearn.model_selection import TimeSeriesSplit\n",
        "from sklearn.model_selection import KFold\n",
        "from sklearn.model_selection import train_test_split\n",
        "from sklearn.metrics import mean_squared_log_error\n",
        "from sklearn.preprocessing import StandardScaler\n",
        "\n",
        "import warnings\n",
        "warnings.filterwarnings('ignore')"
      ],
      "metadata": {
        "id": "kFjNuzUHZaX8"
      },
      "execution_count": 34,
      "outputs": []
    },
    {
      "cell_type": "code",
      "source": [
        "PATH = '/content/drive/MyDrive/Colab Notebooks/DACON/교통사고 data/'\n",
        "\n",
        "# 데이터 로딩 함수\n",
        "def load_data(filename):\n",
        "    return pd.read_csv(f'{PATH}{filename}')\n",
        "\n",
        "# 날짜 처리 함수\n",
        "def process_date(df):\n",
        "    df['사고일시'] = pd.to_datetime(df['사고일시'])\n",
        "    df['년'] = df['사고일시'].dt.year\n",
        "    df['월'] = df['사고일시'].dt.month\n",
        "    df['일'] = df['사고일시'].dt.day\n",
        "    df['시'] = df['사고일시'].dt.hour\n",
        "    df.drop(columns='사고일시', inplace=True)\n",
        "\n",
        "# 인코딩 함수\n",
        "def encode_categorical(df, encoders=None):\n",
        "    if encoders is None:\n",
        "        encoders = {}\n",
        "    categorical_features = df.select_dtypes(include=['object']).columns\n",
        "    for feature in categorical_features:\n",
        "        if feature not in encoders:\n",
        "            le = LabelEncoder()\n",
        "            df[feature] = le.fit_transform(df[feature].astype(str))\n",
        "            encoders[feature] = le\n",
        "        else:\n",
        "            le = encoders[feature]\n",
        "            # Handling unseen labels\n",
        "            df[feature] = df[feature].apply(lambda x: x if x in le.classes_ else '-1')\n",
        "            le_classes = le.classes_.tolist()\n",
        "            bisect.insort_left(le_classes, '-1')\n",
        "            le.classes_ = np.array(le_classes)\n",
        "            df[feature] = le.transform(df[feature].astype(str))\n",
        "    return df, encoders\n",
        "\n",
        "\n",
        "# 결측치 처리 함수\n",
        "def impute_missing_values(df, strategy='mean'):\n",
        "    for column in df.columns:\n",
        "        if df[column].isnull().any():\n",
        "            if strategy == 'mean':\n",
        "                df[column].fillna(df[column].mean(), inplace=True)\n",
        "            # 다른 전략들을 추가할 수 있음\n",
        "    return df\n",
        "\n",
        "# 데이터 로딩\n",
        "train = load_data('train.csv')\n",
        "test_df = load_data('test.csv')\n",
        "\n",
        "test_columns = set(test_df.columns)\n",
        "train_df = train[test_columns]\n",
        "\n",
        "# 데이터 전처리\n",
        "process_date(train_df)\n",
        "process_date(test_df)\n",
        "\n",
        "# 카테고리 변수 처리\n",
        "train_df, encoders = encode_categorical(train_df)\n",
        "test_df, _ = encode_categorical(test_df, encoders)\n",
        "\n",
        "# 결측치 처리\n",
        "train_df = impute_missing_values(train_df)\n",
        "test_df = impute_missing_values(test_df)\n",
        "\n",
        "# 피처와 타깃 분리\n",
        "X_train = train_df\n",
        "y_train = train['ECLO']\n",
        "\n",
        "\n",
        "def train_and_evaluate(model, model_name, X_train, y_train):\n",
        "    print(f'Model Tune for {model_name}.')\n",
        "    model.fit(X_train, y_train)\n",
        "\n",
        "    feature_importances = model.feature_importances_\n",
        "    sorted_idx = feature_importances.argsort()\n",
        "\n",
        "    plt.figure(figsize=(10, len(X_train.columns)))\n",
        "    plt.title(f\"Feature Importances ({model_name})\")\n",
        "    plt.barh(range(X_train.shape[1]), feature_importances[sorted_idx], align='center')\n",
        "    plt.yticks(range(X_train.shape[1]), X_train.columns[sorted_idx])\n",
        "    plt.xlabel('Importance')\n",
        "    plt.show()\n",
        "\n",
        "    return model, feature_importances\n",
        "\n",
        "# 모델 학습 및 평가\n",
        "lgbm_model, lgbm_feature_importances = train_and_evaluate(lgb.LGBMRegressor(), 'LGBM', X_train, y_train)"
      ],
      "metadata": {
        "colab": {
          "base_uri": "https://localhost:8080/",
          "height": 1000
        },
        "id": "ACdh9ZfPuGQ3",
        "outputId": "e8028f84-edcd-4321-d80c-ff10c2c8469c"
      },
      "execution_count": 41,
      "outputs": [
        {
          "output_type": "stream",
          "name": "stdout",
          "text": [
            "Model Tune for LGBM.\n",
            "[LightGBM] [Info] Auto-choosing row-wise multi-threading, the overhead of testing was 0.003106 seconds.\n",
            "You can set `force_row_wise=true` to remove the overhead.\n",
            "And if memory is not enough, you can set `force_col_wise=true`.\n",
            "[LightGBM] [Info] Total Bins 553\n",
            "[LightGBM] [Info] Number of data points in the train set: 39609, number of used features: 11\n",
            "[LightGBM] [Info] Start training from score 4.726704\n"
          ]
        },
        {
          "output_type": "display_data",
          "data": {
            "text/plain": [
              "<Figure size 1000x1100 with 1 Axes>"
            ],
            "image/png": "[encoded data removed]"
          },
          "metadata": {}
        }
      ]
    },
    {
      "cell_type": "code",
      "source": [
        "threshold = 85\n",
        "low_importance_features = X_train.columns[lgbm_feature_importances < threshold]\n",
        "\n",
        "X_train_reduced = X_train.drop(columns=low_importance_features)\n",
        "X_test_reduced = test_df.drop(columns=low_importance_features)"
      ],
      "metadata": {
        "id": "IgpAsTNngRK3"
      },
      "execution_count": 39,
      "outputs": []
    },
    {
      "cell_type": "code",
      "source": [
        "lgbm = lgb.LGBMRegressor(n_estimators=100)\n",
        "\n",
        "# 5-Fold\n",
        "kf = KFold(n_splits=5, shuffle=True, random_state=42)\n",
        "\n",
        "ensemble_predictions = []\n",
        "train_scores = []\n",
        "val_scores = []\n",
        "\n",
        "for train_idx, val_idx in tqdm(kf.split(X_train_reduced), total=5, desc=\"Processing folds\"):\n",
        "    X_t, X_val = X_train_reduced.iloc[train_idx], X_train_reduced.iloc[val_idx]\n",
        "    y_t, y_val = y_train[train_idx], y_train[val_idx]\n",
        "\n",
        "    # 학습\n",
        "    lgbm.fit(X_t, y_t)\n",
        "\n",
        "    # 예측\n",
        "    train_pred = lgbm.predict(X_t)\n",
        "    val_pred = lgbm.predict(X_val)\n",
        "\n",
        "    # 음수 보정\n",
        "    train_pred = np.where(train_pred < 0, 0, train_pred)\n",
        "    val_pred = np.where(val_pred < 0, 0, val_pred)\n",
        "\n",
        "    # loss\n",
        "    train_scores.append(np.sqrt(mean_squared_log_error(y_t, train_pred)))\n",
        "    val_scores.append(np.sqrt(mean_squared_log_error(y_val, val_pred)))\n",
        "\n",
        "    # test 데이터셋에 대한 예측 수행 후 저장\n",
        "    lgbm_pred = lgbm.predict(X_test_reduced)\n",
        "    ensemble_predictions.append(lgbm_pred)\n",
        "\n",
        "# fold별 모델들의 앙상블 예측\n",
        "final_predictions = np.mean(ensemble_predictions, axis=0)\n",
        "\n",
        "# loss 평균\n",
        "print(\"Train : RMSLE:\", np.mean(train_scores))\n",
        "print(\"Validation : RMSLE:\", np.mean(val_scores))"
      ],
      "metadata": {
        "colab": {
          "base_uri": "https://localhost:8080/"
        },
        "id": "UuEJrJCwgXhv",
        "outputId": "d7a11cb4-830e-4610-ed0a-e9fc615b6a6e"
      },
      "execution_count": 40,
      "outputs": [
        {
          "output_type": "stream",
          "name": "stderr",
          "text": [
            "\rProcessing folds:   0%|          | 0/5 [00:00<?, ?it/s]"
          ]
        },
        {
          "output_type": "stream",
          "name": "stdout",
          "text": [
            "[LightGBM] [Info] Auto-choosing row-wise multi-threading, the overhead of testing was 0.000993 seconds.\n",
            "You can set `force_row_wise=true` to remove the overhead.\n",
            "And if memory is not enough, you can set `force_col_wise=true`.\n",
            "[LightGBM] [Info] Total Bins 538\n",
            "[LightGBM] [Info] Number of data points in the train set: 31687, number of used features: 8\n",
            "[LightGBM] [Info] Start training from score 4.732382\n"
          ]
        },
        {
          "output_type": "stream",
          "name": "stderr",
          "text": [
            "\rProcessing folds:  20%|██        | 1/5 [00:00<00:01,  2.05it/s]"
          ]
        },
        {
          "output_type": "stream",
          "name": "stdout",
          "text": [
            "[LightGBM] [Info] Auto-choosing row-wise multi-threading, the overhead of testing was 0.000996 seconds.\n",
            "You can set `force_row_wise=true` to remove the overhead.\n",
            "And if memory is not enough, you can set `force_col_wise=true`.\n",
            "[LightGBM] [Info] Total Bins 541\n",
            "[LightGBM] [Info] Number of data points in the train set: 31687, number of used features: 8\n",
            "[LightGBM] [Info] Start training from score 4.733140\n"
          ]
        },
        {
          "output_type": "stream",
          "name": "stderr",
          "text": [
            "\rProcessing folds:  40%|████      | 2/5 [00:01<00:01,  1.97it/s]"
          ]
        },
        {
          "output_type": "stream",
          "name": "stdout",
          "text": [
            "[LightGBM] [Info] Auto-choosing row-wise multi-threading, the overhead of testing was 0.001208 seconds.\n",
            "You can set `force_row_wise=true` to remove the overhead.\n",
            "And if memory is not enough, you can set `force_col_wise=true`.\n",
            "[LightGBM] [Info] Total Bins 539\n",
            "[LightGBM] [Info] Number of data points in the train set: 31687, number of used features: 8\n",
            "[LightGBM] [Info] Start training from score 4.714520\n"
          ]
        },
        {
          "output_type": "stream",
          "name": "stderr",
          "text": [
            "\rProcessing folds:  60%|██████    | 3/5 [00:01<00:01,  1.97it/s]"
          ]
        },
        {
          "output_type": "stream",
          "name": "stdout",
          "text": [
            "[LightGBM] [Info] Auto-choosing row-wise multi-threading, the overhead of testing was 0.000991 seconds.\n",
            "You can set `force_row_wise=true` to remove the overhead.\n",
            "And if memory is not enough, you can set `force_col_wise=true`.\n",
            "[LightGBM] [Info] Total Bins 540\n",
            "[LightGBM] [Info] Number of data points in the train set: 31687, number of used features: 8\n",
            "[LightGBM] [Info] Start training from score 4.721810\n"
          ]
        },
        {
          "output_type": "stream",
          "name": "stderr",
          "text": [
            "\rProcessing folds:  80%|████████  | 4/5 [00:01<00:00,  2.07it/s]"
          ]
        },
        {
          "output_type": "stream",
          "name": "stdout",
          "text": [
            "[LightGBM] [Info] Auto-choosing row-wise multi-threading, the overhead of testing was 0.000986 seconds.\n",
            "You can set `force_row_wise=true` to remove the overhead.\n",
            "And if memory is not enough, you can set `force_col_wise=true`.\n",
            "[LightGBM] [Info] Total Bins 538\n",
            "[LightGBM] [Info] Number of data points in the train set: 31688, number of used features: 8\n",
            "[LightGBM] [Info] Start training from score 4.731665\n"
          ]
        },
        {
          "output_type": "stream",
          "name": "stderr",
          "text": [
            "Processing folds: 100%|██████████| 5/5 [00:02<00:00,  2.05it/s]"
          ]
        },
        {
          "output_type": "stream",
          "name": "stdout",
          "text": [
            "Train : RMSLE: 0.43904692136494017\n",
            "Validation : RMSLE: 0.46044620323751884\n"
          ]
        },
        {
          "output_type": "stream",
          "name": "stderr",
          "text": [
            "\n"
          ]
        }
      ]
    },
    {
      "cell_type": "code",
      "source": [
        "submit = pd.read_csv(f'{PATH}sample_submission.csv')\n",
        "submit['ECLO'] = final_predictions\n",
        "submit.to_csv(f'submission.csv', index=False)"
      ],
      "metadata": {
        "id": "2Cz1vvzROs9J"
      },
      "execution_count": 31,
      "outputs": []
    },
    {
      "cell_type": "code",
      "source": [],
      "metadata": {
        "id": "feI4-ZPGOtB6"
      },
      "execution_count": 16,
      "outputs": []
    },
    {
      "cell_type": "code",
      "source": [],
      "metadata": {
        "id": "M3kq4d6MOtEP"
      },
      "execution_count": null,
      "outputs": []
    },
    {
      "cell_type": "code",
      "source": [],
      "metadata": {
        "id": "uiqBGSEVOtGq"
      },
      "execution_count": null,
      "outputs": []
    },
    {
      "cell_type": "code",
      "source": [],
      "metadata": {
        "id": "M44syKC2OtJH"
      },
      "execution_count": null,
      "outputs": []
    },
    {
      "cell_type": "code",
      "source": [],
      "metadata": {
        "id": "WZNHpT7ZOtLg"
      },
      "execution_count": null,
      "outputs": []
    },
    {
      "cell_type": "code",
      "source": [],
      "metadata": {
        "id": "X0_-WRn9OtN1"
      },
      "execution_count": null,
      "outputs": []
    },
    {
      "cell_type": "code",
      "source": [],
      "metadata": {
        "id": "ivTeyWEAOtQD"
      },
      "execution_count": null,
      "outputs": []
    }
  ]
}